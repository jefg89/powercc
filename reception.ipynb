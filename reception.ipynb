{
 "cells": [
  {
   "cell_type": "markdown",
   "metadata": {},
   "source": [
    "## Imports and defs"
   ]
  },
  {
   "cell_type": "code",
   "execution_count": 1,
   "metadata": {},
   "outputs": [],
   "source": [
    "from operator import le\n",
    "import numpy as np\n",
    "from numpy.fft import fft\n",
    "import matplotlib.pyplot as plt\n",
    "from os import read\n",
    "import math\n",
    "import pandas as pd\n",
    "from scipy import signal\n",
    "\n",
    "def toInt(in_array):\n",
    "    tmp = []\n",
    "    for i in range(len(in_array)):\n",
    "        tmp.append(int(in_array[i]))\n",
    "    return tmp\n",
    "def fillWindow(w_size, value):\n",
    "    window = []\n",
    "    for x in range (w_size):\n",
    "        window.append(value)\n",
    "    return window\n",
    "\n",
    "def getSlindingWindows(in_array, w_size):\n",
    "    windows = []\n",
    "    tmp_window = fillWindow(w_size, in_array[0])\n",
    "    for x in range (len(in_array)):\n",
    "        tmp_window = tmp_window[1:]\n",
    "        tmp_window.append(in_array[x])\n",
    "        windows.append(tmp_window)\n",
    "    return windows\n",
    "\n",
    "\n",
    "\n",
    "def getWindowsFromArrayOfSize(in_array, w_size):\n",
    "    windows = []\n",
    "    for x in range(math.floor(len(in_array) / w_size)):\n",
    "        tmp = []\n",
    "        for w in range(w_size):\n",
    "            tmp.append(in_array[x*w_size + w])\n",
    "        windows.append(tmp)\n",
    "    return windows\n",
    "\n",
    "\n",
    "    \n",
    "\n",
    "def appendZeros(in_array, zeros):\n",
    "    tmp = in_array\n",
    "    for x in range(zeros):\n",
    "        tmp.append(0)\n",
    "    return tmp\n",
    "\n",
    "\n",
    "def getAverage(window):\n",
    "    sum = 0\n",
    "    for x in range(0, len(window)):\n",
    "        sum+= window[x]\n",
    "    avg = sum / len(window)\n",
    "    return avg\n",
    "\n",
    "\n",
    "\n",
    "def butter_highpass(cutoff, fs, order=5):\n",
    "    nyq = 0.5 * fs\n",
    "    normal_cutoff = cutoff / nyq\n",
    "    b, a = signal.butter(order, normal_cutoff, btype='high', analog=False)\n",
    "    return b, a\n",
    "\n",
    "def butter_highpass_filter(data, cutoff, fs, order=5):\n",
    "    b, a = butter_highpass(cutoff, fs, order=order)\n",
    "    y = signal.filtfilt(b, a, data)\n",
    "    return y\n",
    "\n",
    "\n",
    "def getMin(window):\n",
    "    min = 9000\n",
    "    for x in range(0, len(window)):\n",
    "        if(window[x] <  min):\n",
    "            min = window[x]\n",
    "    return min\n",
    "\n",
    "def getMax(window):\n",
    "    max = 0\n",
    "    for x in range(0, len(window)):\n",
    "        if(window[x] >  max):\n",
    "            max = window[x]\n",
    "    return max \n",
    "\n",
    "\n",
    "\n",
    "\n",
    "\n",
    "#TODO: we here\n",
    "def fix_window(window, window_size):\n",
    "    d = window[window_size - 1]\n",
    "    for x in range (len(window) - window_size):\n",
    "        window.append(d)\n",
    "\n",
    "def get_n_above_threshold(window, threshold):\n",
    "    n = 0\n",
    "    for x in window:\n",
    "        if x > threshold:\n",
    "            n = n + 1\n",
    "    return n\n",
    "\n",
    "def firstDev(window):\n",
    "    dev = 0\n",
    "    devs = []\n",
    "    p = 0\n",
    "    for x in range (1, len(window)):\n",
    "        dev = (window[x] - window[x-1])\n",
    "        devs.append(dev)\n",
    "    devs.append(dev)\n",
    "    return devs\n",
    "\n",
    "\n",
    "        "
   ]
  },
  {
   "cell_type": "markdown",
   "metadata": {},
   "source": [
    "## File reading"
   ]
  },
  {
   "cell_type": "code",
   "execution_count": 6,
   "metadata": {},
   "outputs": [],
   "source": [
    "window_size = 50\n",
    "directory = 'data/10_dvfs/'\n"
   ]
  },
  {
   "cell_type": "code",
   "execution_count": 7,
   "metadata": {},
   "outputs": [
    {
     "name": "stdout",
     "output_type": "stream",
     "text": [
      "40000\n"
     ]
    }
   ],
   "source": [
    "import os\n",
    "data_ = []\n",
    "for filename in os.listdir(directory):\n",
    "    f_name = os.path.join(directory, filename)\n",
    "    f = open(f_name, 'r')\n",
    "    raw = []\n",
    "    for l in range(4000):\n",
    "        r = f.readline()\n",
    "        raw.append(r)\n",
    "    data_file = toInt(raw)\n",
    "    data_ += data_file\n",
    "\n",
    "\n",
    "filtered = data_\n",
    "#filtered = butter_highpass_filter(data_, cut_freq, fs, order)\n",
    "\n",
    "\n",
    "windows = getWindowsFromArrayOfSize(filtered, window_size)\n",
    "\n",
    "\n",
    "devs = []\n",
    "for w in windows:\n",
    "    devs.append(firstDev(w))\n",
    "\n",
    "print(len(data_))\n"
   ]
  },
  {
   "cell_type": "code",
   "execution_count": null,
   "metadata": {},
   "outputs": [],
   "source": [
    "\n",
    "df2 = pd.Series(data = filtered[:800])\n",
    "df2 = pd.Series(data = devs[15])\n",
    "df2.plot()\n",
    "\n",
    "      #50 100 150 200 \n",
    "#200 -  1  0   1   0 "
   ]
  },
  {
   "cell_type": "markdown",
   "metadata": {},
   "source": [
    "## Decoding"
   ]
  },
  {
   "cell_type": "code",
   "execution_count": 8,
   "metadata": {},
   "outputs": [
    {
     "name": "stdout",
     "output_type": "stream",
     "text": [
      "0x8ad6d4b656d77695cb45da26a5ad2d6d4f0b3f76c6d6e6d492a5b7a4f18ce25a46929ed758ad279952d6969e96bdbd657517d6f534da96a4bd91b9b9a6b5b5b4b5797949373312d124b7252d2dad136a5ed256529adab5b532591697a5a7a52d2c4e31fd\n",
      "0xaaaaaaaaaaaaaaaaaaaaaaaaaaaaaaaaaaaaaaaaaaaaaaaaaaaaaaaaaaaaaaaaaaaaaaaaaaaaaaaaaaaaaaaaaaaaaaaaaaaaaaaaaaaaaaaaaaaaaaaaaaaaaaaaaaaaaaaaaaaaaaaaaaaaaaaaaaaaaaaaaaaaaaaaaaaaaaaaaaaaaaaaaaaaaaaaaaaaaaaa\n",
      "0x8ad6d4b656d77695cb45da26a5ad2d6d4f0b3f76c6d6e6d492a5b7a4f18ce25a46929ed758ad279952d6969e96bdbd657517d6f534da96a4bd91b9b9a6b5b5b4b5797949373312d124b7252d2dad136a5ed256529adab5b532591697a5a7a52d2c4e31fd\n",
      "53.37 %\n"
     ]
    }
   ],
   "source": [
    "packages = 100\n",
    "bits = 8\n",
    "avgs = []\n",
    "bin = 1\n",
    "max =  getAverage(devs[0])\n",
    "avgs.append(max)\n",
    "for w in range(1, packages * bits):\n",
    "    avg = getAverage(devs[w])\n",
    "    bin = (bin << 1) | (avg >= 0)\n",
    "    avgs.append(avg)\n",
    "    \n",
    "   \n",
    "print(hex(bin))\n",
    "\n",
    "\n",
    "og = 0\n",
    "for x in range(packages):\n",
    "    og = (og << 8) | (0xaa)\n",
    "print(hex(og))\n",
    "print(hex(bin))\n",
    "\n",
    "err = og ^ bin \n",
    "err_str = '{0:08b}'.format(err) \n",
    "err_count = err_str.count('1')\n",
    "\n",
    "ber = 100* (err_count / (bits * packages))\n",
    "print(round(ber, 2), \"%\")"
   ]
  }
 ],
 "metadata": {
  "kernelspec": {
   "display_name": "Python 3",
   "language": "python",
   "name": "python3"
  },
  "language_info": {
   "codemirror_mode": {
    "name": "ipython",
    "version": 3
   },
   "file_extension": ".py",
   "mimetype": "text/x-python",
   "name": "python",
   "nbconvert_exporter": "python",
   "pygments_lexer": "ipython3",
   "version": "3.8.10"
  },
  "orig_nbformat": 4
 },
 "nbformat": 4,
 "nbformat_minor": 2
}
